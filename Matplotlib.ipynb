{
  "nbformat": 4,
  "nbformat_minor": 0,
  "metadata": {
    "colab": {
      "name": "Matplotlib",
      "provenance": [],
      "collapsed_sections": [],
      "authorship_tag": "ABX9TyOAimObdpXltHqsd73HdCYu",
      "include_colab_link": true
    },
    "kernelspec": {
      "name": "python3",
      "display_name": "Python 3"
    },
    "language_info": {
      "name": "python"
    }
  },
  "cells": [
    {
      "cell_type": "markdown",
      "metadata": {
        "id": "view-in-github",
        "colab_type": "text"
      },
      "source": [
        "<a href=\"https://colab.research.google.com/github/esther-nyokabi/Crime-Rate/blob/main/Matplotlib.ipynb\" target=\"_parent\"><img src=\"https://colab.research.google.com/assets/colab-badge.svg\" alt=\"Open In Colab\"/></a>"
      ]
    },
    {
      "cell_type": "code",
      "execution_count": null,
      "metadata": {
        "id": "5nKlNVlC27P-"
      },
      "outputs": [],
      "source": [
        "# Importing libraries\n",
        "# We’ll import numpy, pandas and matplotlib with their respective aliases: np, pd and plt.\n",
        "import numpy as np\n",
        "import pandas as pd\n",
        "import matplotlib.pyplot as plt"
      ]
    },
    {
      "cell_type": "markdown",
      "source": [
        "**About the Dataset**\n",
        "**Dataset Name: Standard Metropolitan Dataset**\n",
        "\n",
        "**Dataset Description:**\n",
        "\n",
        "It contains data of 99 standard metropolitan areas in the US i.e. 99 row entries. The dataset provides information on 11 variables for each area for the period 1976-1977. The areas have been divided into 4 geographic regions: 1=North-East, 2=North-Central, 3=South, 4=West. The variables provided are listed in the table below:"
      ],
      "metadata": {
        "id": "DAvANHe55dv7"
      }
    },
    {
      "cell_type": "markdown",
      "source": [
        "**Objective** \n",
        "The problem objective is to find the crime rate of each area.\n",
        "\n",
        "**Loading the dataset**\n",
        "For loading the dataset, we’ll use the Pandas read_csv method.\n",
        "\n",
        "Here's the CSV of the dataset: https://raw.githubusercontent.com/dphi-official/Datasets/master/Standard_Metropolitan_Areas_Data-data.csv"
      ],
      "metadata": {
        "id": "BRUxfWWl6ckq"
      }
    },
    {
      "cell_type": "code",
      "source": [
        "x = pd.read_csv(\"https://raw.githubusercontent.com/dphi-official/Datasets/master/Standard_Metropolitan_Areas_Data-data.csv\")\n",
        "x"
      ],
      "metadata": {
        "colab": {
          "base_uri": "https://localhost:8080/",
          "height": 423
        },
        "id": "Q3QOhExe3lIu",
        "outputId": "6974fa82-829b-4fc9-d590-9ceb997bc188"
      },
      "execution_count": null,
      "outputs": [
        {
          "output_type": "execute_result",
          "data": {
            "text/plain": [
              "    land_area  percent_city  percent_senior  physicians  hospital_beds  \\\n",
              "0        1384          78.1            12.3       25627          69678   \n",
              "1        3719          43.9             9.4       13326          43292   \n",
              "2        3553          37.4            10.7        9724          33731   \n",
              "3        3916          29.9             8.8        6402          24167   \n",
              "4        2480          31.5            10.5        8502          16751   \n",
              "..        ...           ...             ...         ...            ...   \n",
              "94       1511          38.7            10.7         348           1093   \n",
              "95       1543          39.6             8.1         159            481   \n",
              "96       1011          37.8            10.5         264            964   \n",
              "97        813          13.4            10.9         371           4355   \n",
              "98        654          28.8             3.9         140           1296   \n",
              "\n",
              "    graduates  work_force  income  region  crime_rate  \n",
              "0        50.1      4083.9   72100       1       75.55  \n",
              "1        53.9      3305.9   54542       2       56.03  \n",
              "2        50.6      2066.3   33216       1       41.32  \n",
              "3        52.2      1966.7   32906       2       67.38  \n",
              "4        66.1      1514.5   26573       4       80.19  \n",
              "..        ...         ...     ...     ...         ...  \n",
              "94       50.4       127.2    1452       4       70.66  \n",
              "95       30.3        80.6     769       3       36.36  \n",
              "96       70.7        93.2    1337       3       60.16  \n",
              "97       58.0        97.0    1589       1       36.33  \n",
              "98       55.1        66.9    1148       3       68.76  \n",
              "\n",
              "[99 rows x 10 columns]"
            ],
            "text/html": [
              "\n",
              "  <div id=\"df-ebca58eb-0c3d-4331-91f3-0c7c80afa873\">\n",
              "    <div class=\"colab-df-container\">\n",
              "      <div>\n",
              "<style scoped>\n",
              "    .dataframe tbody tr th:only-of-type {\n",
              "        vertical-align: middle;\n",
              "    }\n",
              "\n",
              "    .dataframe tbody tr th {\n",
              "        vertical-align: top;\n",
              "    }\n",
              "\n",
              "    .dataframe thead th {\n",
              "        text-align: right;\n",
              "    }\n",
              "</style>\n",
              "<table border=\"1\" class=\"dataframe\">\n",
              "  <thead>\n",
              "    <tr style=\"text-align: right;\">\n",
              "      <th></th>\n",
              "      <th>land_area</th>\n",
              "      <th>percent_city</th>\n",
              "      <th>percent_senior</th>\n",
              "      <th>physicians</th>\n",
              "      <th>hospital_beds</th>\n",
              "      <th>graduates</th>\n",
              "      <th>work_force</th>\n",
              "      <th>income</th>\n",
              "      <th>region</th>\n",
              "      <th>crime_rate</th>\n",
              "    </tr>\n",
              "  </thead>\n",
              "  <tbody>\n",
              "    <tr>\n",
              "      <th>0</th>\n",
              "      <td>1384</td>\n",
              "      <td>78.1</td>\n",
              "      <td>12.3</td>\n",
              "      <td>25627</td>\n",
              "      <td>69678</td>\n",
              "      <td>50.1</td>\n",
              "      <td>4083.9</td>\n",
              "      <td>72100</td>\n",
              "      <td>1</td>\n",
              "      <td>75.55</td>\n",
              "    </tr>\n",
              "    <tr>\n",
              "      <th>1</th>\n",
              "      <td>3719</td>\n",
              "      <td>43.9</td>\n",
              "      <td>9.4</td>\n",
              "      <td>13326</td>\n",
              "      <td>43292</td>\n",
              "      <td>53.9</td>\n",
              "      <td>3305.9</td>\n",
              "      <td>54542</td>\n",
              "      <td>2</td>\n",
              "      <td>56.03</td>\n",
              "    </tr>\n",
              "    <tr>\n",
              "      <th>2</th>\n",
              "      <td>3553</td>\n",
              "      <td>37.4</td>\n",
              "      <td>10.7</td>\n",
              "      <td>9724</td>\n",
              "      <td>33731</td>\n",
              "      <td>50.6</td>\n",
              "      <td>2066.3</td>\n",
              "      <td>33216</td>\n",
              "      <td>1</td>\n",
              "      <td>41.32</td>\n",
              "    </tr>\n",
              "    <tr>\n",
              "      <th>3</th>\n",
              "      <td>3916</td>\n",
              "      <td>29.9</td>\n",
              "      <td>8.8</td>\n",
              "      <td>6402</td>\n",
              "      <td>24167</td>\n",
              "      <td>52.2</td>\n",
              "      <td>1966.7</td>\n",
              "      <td>32906</td>\n",
              "      <td>2</td>\n",
              "      <td>67.38</td>\n",
              "    </tr>\n",
              "    <tr>\n",
              "      <th>4</th>\n",
              "      <td>2480</td>\n",
              "      <td>31.5</td>\n",
              "      <td>10.5</td>\n",
              "      <td>8502</td>\n",
              "      <td>16751</td>\n",
              "      <td>66.1</td>\n",
              "      <td>1514.5</td>\n",
              "      <td>26573</td>\n",
              "      <td>4</td>\n",
              "      <td>80.19</td>\n",
              "    </tr>\n",
              "    <tr>\n",
              "      <th>...</th>\n",
              "      <td>...</td>\n",
              "      <td>...</td>\n",
              "      <td>...</td>\n",
              "      <td>...</td>\n",
              "      <td>...</td>\n",
              "      <td>...</td>\n",
              "      <td>...</td>\n",
              "      <td>...</td>\n",
              "      <td>...</td>\n",
              "      <td>...</td>\n",
              "    </tr>\n",
              "    <tr>\n",
              "      <th>94</th>\n",
              "      <td>1511</td>\n",
              "      <td>38.7</td>\n",
              "      <td>10.7</td>\n",
              "      <td>348</td>\n",
              "      <td>1093</td>\n",
              "      <td>50.4</td>\n",
              "      <td>127.2</td>\n",
              "      <td>1452</td>\n",
              "      <td>4</td>\n",
              "      <td>70.66</td>\n",
              "    </tr>\n",
              "    <tr>\n",
              "      <th>95</th>\n",
              "      <td>1543</td>\n",
              "      <td>39.6</td>\n",
              "      <td>8.1</td>\n",
              "      <td>159</td>\n",
              "      <td>481</td>\n",
              "      <td>30.3</td>\n",
              "      <td>80.6</td>\n",
              "      <td>769</td>\n",
              "      <td>3</td>\n",
              "      <td>36.36</td>\n",
              "    </tr>\n",
              "    <tr>\n",
              "      <th>96</th>\n",
              "      <td>1011</td>\n",
              "      <td>37.8</td>\n",
              "      <td>10.5</td>\n",
              "      <td>264</td>\n",
              "      <td>964</td>\n",
              "      <td>70.7</td>\n",
              "      <td>93.2</td>\n",
              "      <td>1337</td>\n",
              "      <td>3</td>\n",
              "      <td>60.16</td>\n",
              "    </tr>\n",
              "    <tr>\n",
              "      <th>97</th>\n",
              "      <td>813</td>\n",
              "      <td>13.4</td>\n",
              "      <td>10.9</td>\n",
              "      <td>371</td>\n",
              "      <td>4355</td>\n",
              "      <td>58.0</td>\n",
              "      <td>97.0</td>\n",
              "      <td>1589</td>\n",
              "      <td>1</td>\n",
              "      <td>36.33</td>\n",
              "    </tr>\n",
              "    <tr>\n",
              "      <th>98</th>\n",
              "      <td>654</td>\n",
              "      <td>28.8</td>\n",
              "      <td>3.9</td>\n",
              "      <td>140</td>\n",
              "      <td>1296</td>\n",
              "      <td>55.1</td>\n",
              "      <td>66.9</td>\n",
              "      <td>1148</td>\n",
              "      <td>3</td>\n",
              "      <td>68.76</td>\n",
              "    </tr>\n",
              "  </tbody>\n",
              "</table>\n",
              "<p>99 rows × 10 columns</p>\n",
              "</div>\n",
              "      <button class=\"colab-df-convert\" onclick=\"convertToInteractive('df-ebca58eb-0c3d-4331-91f3-0c7c80afa873')\"\n",
              "              title=\"Convert this dataframe to an interactive table.\"\n",
              "              style=\"display:none;\">\n",
              "        \n",
              "  <svg xmlns=\"http://www.w3.org/2000/svg\" height=\"24px\"viewBox=\"0 0 24 24\"\n",
              "       width=\"24px\">\n",
              "    <path d=\"M0 0h24v24H0V0z\" fill=\"none\"/>\n",
              "    <path d=\"M18.56 5.44l.94 2.06.94-2.06 2.06-.94-2.06-.94-.94-2.06-.94 2.06-2.06.94zm-11 1L8.5 8.5l.94-2.06 2.06-.94-2.06-.94L8.5 2.5l-.94 2.06-2.06.94zm10 10l.94 2.06.94-2.06 2.06-.94-2.06-.94-.94-2.06-.94 2.06-2.06.94z\"/><path d=\"M17.41 7.96l-1.37-1.37c-.4-.4-.92-.59-1.43-.59-.52 0-1.04.2-1.43.59L10.3 9.45l-7.72 7.72c-.78.78-.78 2.05 0 2.83L4 21.41c.39.39.9.59 1.41.59.51 0 1.02-.2 1.41-.59l7.78-7.78 2.81-2.81c.8-.78.8-2.07 0-2.86zM5.41 20L4 18.59l7.72-7.72 1.47 1.35L5.41 20z\"/>\n",
              "  </svg>\n",
              "      </button>\n",
              "      \n",
              "  <style>\n",
              "    .colab-df-container {\n",
              "      display:flex;\n",
              "      flex-wrap:wrap;\n",
              "      gap: 12px;\n",
              "    }\n",
              "\n",
              "    .colab-df-convert {\n",
              "      background-color: #E8F0FE;\n",
              "      border: none;\n",
              "      border-radius: 50%;\n",
              "      cursor: pointer;\n",
              "      display: none;\n",
              "      fill: #1967D2;\n",
              "      height: 32px;\n",
              "      padding: 0 0 0 0;\n",
              "      width: 32px;\n",
              "    }\n",
              "\n",
              "    .colab-df-convert:hover {\n",
              "      background-color: #E2EBFA;\n",
              "      box-shadow: 0px 1px 2px rgba(60, 64, 67, 0.3), 0px 1px 3px 1px rgba(60, 64, 67, 0.15);\n",
              "      fill: #174EA6;\n",
              "    }\n",
              "\n",
              "    [theme=dark] .colab-df-convert {\n",
              "      background-color: #3B4455;\n",
              "      fill: #D2E3FC;\n",
              "    }\n",
              "\n",
              "    [theme=dark] .colab-df-convert:hover {\n",
              "      background-color: #434B5C;\n",
              "      box-shadow: 0px 1px 3px 1px rgba(0, 0, 0, 0.15);\n",
              "      filter: drop-shadow(0px 1px 2px rgba(0, 0, 0, 0.3));\n",
              "      fill: #FFFFFF;\n",
              "    }\n",
              "  </style>\n",
              "\n",
              "      <script>\n",
              "        const buttonEl =\n",
              "          document.querySelector('#df-ebca58eb-0c3d-4331-91f3-0c7c80afa873 button.colab-df-convert');\n",
              "        buttonEl.style.display =\n",
              "          google.colab.kernel.accessAllowed ? 'block' : 'none';\n",
              "\n",
              "        async function convertToInteractive(key) {\n",
              "          const element = document.querySelector('#df-ebca58eb-0c3d-4331-91f3-0c7c80afa873');\n",
              "          const dataTable =\n",
              "            await google.colab.kernel.invokeFunction('convertToInteractive',\n",
              "                                                     [key], {});\n",
              "          if (!dataTable) return;\n",
              "\n",
              "          const docLinkHtml = 'Like what you see? Visit the ' +\n",
              "            '<a target=\"_blank\" href=https://colab.research.google.com/notebooks/data_table.ipynb>data table notebook</a>'\n",
              "            + ' to learn more about interactive tables.';\n",
              "          element.innerHTML = '';\n",
              "          dataTable['output_type'] = 'display_data';\n",
              "          await google.colab.output.renderOutput(dataTable, element);\n",
              "          const docLink = document.createElement('div');\n",
              "          docLink.innerHTML = docLinkHtml;\n",
              "          element.appendChild(docLink);\n",
              "        }\n",
              "      </script>\n",
              "    </div>\n",
              "  </div>\n",
              "  "
            ]
          },
          "metadata": {},
          "execution_count": 4
        }
      ]
    },
    {
      "cell_type": "code",
      "source": [
        "# count occurrences of a particular column\n",
        "occur = x.groupby(['region']).size()\n",
        "\n",
        "# display occurrences of a particular column\n",
        "display(occur)"
      ],
      "metadata": {
        "colab": {
          "base_uri": "https://localhost:8080/",
          "height": 128
        },
        "id": "IkIxj3pqH6uJ",
        "outputId": "47162439-1905-43f1-8194-ff2e0e6fcd10"
      },
      "execution_count": null,
      "outputs": [
        {
          "output_type": "display_data",
          "data": {
            "text/plain": [
              "region\n",
              "1    21\n",
              "2    25\n",
              "3    36\n",
              "4    17\n",
              "dtype: int64"
            ]
          },
          "metadata": {}
        }
      ]
    },
    {
      "cell_type": "code",
      "source": [
        "# correlation matrix\n",
        "x.corr()"
      ],
      "metadata": {
        "colab": {
          "base_uri": "https://localhost:8080/",
          "height": 363
        },
        "id": "zBceEg06Nj0f",
        "outputId": "22930e5e-23e0-4b78-f063-f6f57bffe7a7"
      },
      "execution_count": null,
      "outputs": [
        {
          "output_type": "execute_result",
          "data": {
            "text/plain": [
              "                land_area  percent_city  percent_senior  physicians  \\\n",
              "land_area        1.000000     -0.077320        0.092226    0.085054   \n",
              "percent_city    -0.077320      1.000000       -0.250995    0.067391   \n",
              "percent_senior   0.092226     -0.250995        1.000000    0.056454   \n",
              "physicians       0.085054      0.067391        0.056454    1.000000   \n",
              "hospital_beds    0.081034      0.052898        0.083775    0.974241   \n",
              "graduates        0.088728      0.076720       -0.155695    0.049500   \n",
              "work_force       0.135792      0.016011        0.035240    0.965597   \n",
              "income           0.111404      0.019235        0.046073    0.976209   \n",
              "region           0.292392      0.235880       -0.242811   -0.140961   \n",
              "crime_rate       0.293907      0.159596       -0.177992    0.187763   \n",
              "\n",
              "                hospital_beds  graduates  work_force    income    region  \\\n",
              "land_area            0.081034   0.088728    0.135792  0.111404  0.292392   \n",
              "percent_city         0.052898   0.076720    0.016011  0.019235  0.235880   \n",
              "percent_senior       0.083775  -0.155695    0.035240  0.046073 -0.242811   \n",
              "physicians           0.974241   0.049500    0.965597  0.976209 -0.140961   \n",
              "hospital_beds        1.000000  -0.003892    0.967913  0.974416 -0.220305   \n",
              "graduates           -0.003892   1.000000    0.044054  0.045578  0.246226   \n",
              "work_force           0.967913   0.044054    1.000000  0.996735 -0.144022   \n",
              "income               0.974416   0.045578    0.996735  1.000000 -0.152016   \n",
              "region              -0.220305   0.246226   -0.144022 -0.152016  1.000000   \n",
              "crime_rate           0.109799   0.290880    0.175945  0.175797  0.636192   \n",
              "\n",
              "                crime_rate  \n",
              "land_area         0.293907  \n",
              "percent_city      0.159596  \n",
              "percent_senior   -0.177992  \n",
              "physicians        0.187763  \n",
              "hospital_beds     0.109799  \n",
              "graduates         0.290880  \n",
              "work_force        0.175945  \n",
              "income            0.175797  \n",
              "region            0.636192  \n",
              "crime_rate        1.000000  "
            ],
            "text/html": [
              "\n",
              "  <div id=\"df-792c65c8-1e2f-4680-a705-368e303daf60\">\n",
              "    <div class=\"colab-df-container\">\n",
              "      <div>\n",
              "<style scoped>\n",
              "    .dataframe tbody tr th:only-of-type {\n",
              "        vertical-align: middle;\n",
              "    }\n",
              "\n",
              "    .dataframe tbody tr th {\n",
              "        vertical-align: top;\n",
              "    }\n",
              "\n",
              "    .dataframe thead th {\n",
              "        text-align: right;\n",
              "    }\n",
              "</style>\n",
              "<table border=\"1\" class=\"dataframe\">\n",
              "  <thead>\n",
              "    <tr style=\"text-align: right;\">\n",
              "      <th></th>\n",
              "      <th>land_area</th>\n",
              "      <th>percent_city</th>\n",
              "      <th>percent_senior</th>\n",
              "      <th>physicians</th>\n",
              "      <th>hospital_beds</th>\n",
              "      <th>graduates</th>\n",
              "      <th>work_force</th>\n",
              "      <th>income</th>\n",
              "      <th>region</th>\n",
              "      <th>crime_rate</th>\n",
              "    </tr>\n",
              "  </thead>\n",
              "  <tbody>\n",
              "    <tr>\n",
              "      <th>land_area</th>\n",
              "      <td>1.000000</td>\n",
              "      <td>-0.077320</td>\n",
              "      <td>0.092226</td>\n",
              "      <td>0.085054</td>\n",
              "      <td>0.081034</td>\n",
              "      <td>0.088728</td>\n",
              "      <td>0.135792</td>\n",
              "      <td>0.111404</td>\n",
              "      <td>0.292392</td>\n",
              "      <td>0.293907</td>\n",
              "    </tr>\n",
              "    <tr>\n",
              "      <th>percent_city</th>\n",
              "      <td>-0.077320</td>\n",
              "      <td>1.000000</td>\n",
              "      <td>-0.250995</td>\n",
              "      <td>0.067391</td>\n",
              "      <td>0.052898</td>\n",
              "      <td>0.076720</td>\n",
              "      <td>0.016011</td>\n",
              "      <td>0.019235</td>\n",
              "      <td>0.235880</td>\n",
              "      <td>0.159596</td>\n",
              "    </tr>\n",
              "    <tr>\n",
              "      <th>percent_senior</th>\n",
              "      <td>0.092226</td>\n",
              "      <td>-0.250995</td>\n",
              "      <td>1.000000</td>\n",
              "      <td>0.056454</td>\n",
              "      <td>0.083775</td>\n",
              "      <td>-0.155695</td>\n",
              "      <td>0.035240</td>\n",
              "      <td>0.046073</td>\n",
              "      <td>-0.242811</td>\n",
              "      <td>-0.177992</td>\n",
              "    </tr>\n",
              "    <tr>\n",
              "      <th>physicians</th>\n",
              "      <td>0.085054</td>\n",
              "      <td>0.067391</td>\n",
              "      <td>0.056454</td>\n",
              "      <td>1.000000</td>\n",
              "      <td>0.974241</td>\n",
              "      <td>0.049500</td>\n",
              "      <td>0.965597</td>\n",
              "      <td>0.976209</td>\n",
              "      <td>-0.140961</td>\n",
              "      <td>0.187763</td>\n",
              "    </tr>\n",
              "    <tr>\n",
              "      <th>hospital_beds</th>\n",
              "      <td>0.081034</td>\n",
              "      <td>0.052898</td>\n",
              "      <td>0.083775</td>\n",
              "      <td>0.974241</td>\n",
              "      <td>1.000000</td>\n",
              "      <td>-0.003892</td>\n",
              "      <td>0.967913</td>\n",
              "      <td>0.974416</td>\n",
              "      <td>-0.220305</td>\n",
              "      <td>0.109799</td>\n",
              "    </tr>\n",
              "    <tr>\n",
              "      <th>graduates</th>\n",
              "      <td>0.088728</td>\n",
              "      <td>0.076720</td>\n",
              "      <td>-0.155695</td>\n",
              "      <td>0.049500</td>\n",
              "      <td>-0.003892</td>\n",
              "      <td>1.000000</td>\n",
              "      <td>0.044054</td>\n",
              "      <td>0.045578</td>\n",
              "      <td>0.246226</td>\n",
              "      <td>0.290880</td>\n",
              "    </tr>\n",
              "    <tr>\n",
              "      <th>work_force</th>\n",
              "      <td>0.135792</td>\n",
              "      <td>0.016011</td>\n",
              "      <td>0.035240</td>\n",
              "      <td>0.965597</td>\n",
              "      <td>0.967913</td>\n",
              "      <td>0.044054</td>\n",
              "      <td>1.000000</td>\n",
              "      <td>0.996735</td>\n",
              "      <td>-0.144022</td>\n",
              "      <td>0.175945</td>\n",
              "    </tr>\n",
              "    <tr>\n",
              "      <th>income</th>\n",
              "      <td>0.111404</td>\n",
              "      <td>0.019235</td>\n",
              "      <td>0.046073</td>\n",
              "      <td>0.976209</td>\n",
              "      <td>0.974416</td>\n",
              "      <td>0.045578</td>\n",
              "      <td>0.996735</td>\n",
              "      <td>1.000000</td>\n",
              "      <td>-0.152016</td>\n",
              "      <td>0.175797</td>\n",
              "    </tr>\n",
              "    <tr>\n",
              "      <th>region</th>\n",
              "      <td>0.292392</td>\n",
              "      <td>0.235880</td>\n",
              "      <td>-0.242811</td>\n",
              "      <td>-0.140961</td>\n",
              "      <td>-0.220305</td>\n",
              "      <td>0.246226</td>\n",
              "      <td>-0.144022</td>\n",
              "      <td>-0.152016</td>\n",
              "      <td>1.000000</td>\n",
              "      <td>0.636192</td>\n",
              "    </tr>\n",
              "    <tr>\n",
              "      <th>crime_rate</th>\n",
              "      <td>0.293907</td>\n",
              "      <td>0.159596</td>\n",
              "      <td>-0.177992</td>\n",
              "      <td>0.187763</td>\n",
              "      <td>0.109799</td>\n",
              "      <td>0.290880</td>\n",
              "      <td>0.175945</td>\n",
              "      <td>0.175797</td>\n",
              "      <td>0.636192</td>\n",
              "      <td>1.000000</td>\n",
              "    </tr>\n",
              "  </tbody>\n",
              "</table>\n",
              "</div>\n",
              "      <button class=\"colab-df-convert\" onclick=\"convertToInteractive('df-792c65c8-1e2f-4680-a705-368e303daf60')\"\n",
              "              title=\"Convert this dataframe to an interactive table.\"\n",
              "              style=\"display:none;\">\n",
              "        \n",
              "  <svg xmlns=\"http://www.w3.org/2000/svg\" height=\"24px\"viewBox=\"0 0 24 24\"\n",
              "       width=\"24px\">\n",
              "    <path d=\"M0 0h24v24H0V0z\" fill=\"none\"/>\n",
              "    <path d=\"M18.56 5.44l.94 2.06.94-2.06 2.06-.94-2.06-.94-.94-2.06-.94 2.06-2.06.94zm-11 1L8.5 8.5l.94-2.06 2.06-.94-2.06-.94L8.5 2.5l-.94 2.06-2.06.94zm10 10l.94 2.06.94-2.06 2.06-.94-2.06-.94-.94-2.06-.94 2.06-2.06.94z\"/><path d=\"M17.41 7.96l-1.37-1.37c-.4-.4-.92-.59-1.43-.59-.52 0-1.04.2-1.43.59L10.3 9.45l-7.72 7.72c-.78.78-.78 2.05 0 2.83L4 21.41c.39.39.9.59 1.41.59.51 0 1.02-.2 1.41-.59l7.78-7.78 2.81-2.81c.8-.78.8-2.07 0-2.86zM5.41 20L4 18.59l7.72-7.72 1.47 1.35L5.41 20z\"/>\n",
              "  </svg>\n",
              "      </button>\n",
              "      \n",
              "  <style>\n",
              "    .colab-df-container {\n",
              "      display:flex;\n",
              "      flex-wrap:wrap;\n",
              "      gap: 12px;\n",
              "    }\n",
              "\n",
              "    .colab-df-convert {\n",
              "      background-color: #E8F0FE;\n",
              "      border: none;\n",
              "      border-radius: 50%;\n",
              "      cursor: pointer;\n",
              "      display: none;\n",
              "      fill: #1967D2;\n",
              "      height: 32px;\n",
              "      padding: 0 0 0 0;\n",
              "      width: 32px;\n",
              "    }\n",
              "\n",
              "    .colab-df-convert:hover {\n",
              "      background-color: #E2EBFA;\n",
              "      box-shadow: 0px 1px 2px rgba(60, 64, 67, 0.3), 0px 1px 3px 1px rgba(60, 64, 67, 0.15);\n",
              "      fill: #174EA6;\n",
              "    }\n",
              "\n",
              "    [theme=dark] .colab-df-convert {\n",
              "      background-color: #3B4455;\n",
              "      fill: #D2E3FC;\n",
              "    }\n",
              "\n",
              "    [theme=dark] .colab-df-convert:hover {\n",
              "      background-color: #434B5C;\n",
              "      box-shadow: 0px 1px 3px 1px rgba(0, 0, 0, 0.15);\n",
              "      filter: drop-shadow(0px 1px 2px rgba(0, 0, 0, 0.3));\n",
              "      fill: #FFFFFF;\n",
              "    }\n",
              "  </style>\n",
              "\n",
              "      <script>\n",
              "        const buttonEl =\n",
              "          document.querySelector('#df-792c65c8-1e2f-4680-a705-368e303daf60 button.colab-df-convert');\n",
              "        buttonEl.style.display =\n",
              "          google.colab.kernel.accessAllowed ? 'block' : 'none';\n",
              "\n",
              "        async function convertToInteractive(key) {\n",
              "          const element = document.querySelector('#df-792c65c8-1e2f-4680-a705-368e303daf60');\n",
              "          const dataTable =\n",
              "            await google.colab.kernel.invokeFunction('convertToInteractive',\n",
              "                                                     [key], {});\n",
              "          if (!dataTable) return;\n",
              "\n",
              "          const docLinkHtml = 'Like what you see? Visit the ' +\n",
              "            '<a target=\"_blank\" href=https://colab.research.google.com/notebooks/data_table.ipynb>data table notebook</a>'\n",
              "            + ' to learn more about interactive tables.';\n",
              "          element.innerHTML = '';\n",
              "          dataTable['output_type'] = 'display_data';\n",
              "          await google.colab.output.renderOutput(dataTable, element);\n",
              "          const docLink = document.createElement('div');\n",
              "          docLink.innerHTML = docLinkHtml;\n",
              "          element.appendChild(docLink);\n",
              "        }\n",
              "      </script>\n",
              "    </div>\n",
              "  </div>\n",
              "  "
            ]
          },
          "metadata": {},
          "execution_count": 23
        }
      ]
    },
    {
      "cell_type": "code",
      "source": [
        "# Summary of the dataframe\n",
        "x.info()"
      ],
      "metadata": {
        "colab": {
          "base_uri": "https://localhost:8080/"
        },
        "id": "_21BHRzo7gBP",
        "outputId": "e97f81ba-e4f6-4934-8295-1ce293be958d"
      },
      "execution_count": null,
      "outputs": [
        {
          "output_type": "stream",
          "name": "stdout",
          "text": [
            "<class 'pandas.core.frame.DataFrame'>\n",
            "RangeIndex: 99 entries, 0 to 98\n",
            "Data columns (total 10 columns):\n",
            " #   Column          Non-Null Count  Dtype  \n",
            "---  ------          --------------  -----  \n",
            " 0   land_area       99 non-null     int64  \n",
            " 1   percent_city    99 non-null     float64\n",
            " 2   percent_senior  99 non-null     float64\n",
            " 3   physicians      99 non-null     int64  \n",
            " 4   hospital_beds   99 non-null     int64  \n",
            " 5   graduates       99 non-null     float64\n",
            " 6   work_force      99 non-null     float64\n",
            " 7   income          99 non-null     int64  \n",
            " 8   region          99 non-null     int64  \n",
            " 9   crime_rate      99 non-null     float64\n",
            "dtypes: float64(5), int64(5)\n",
            "memory usage: 7.9 KB\n"
          ]
        }
      ]
    },
    {
      "cell_type": "code",
      "source": [
        "# mean of land area\n",
        "e = x.iloc[:,0]\n",
        "e\n",
        "import statistics\n",
        "statistics.mean(e)"
      ],
      "metadata": {
        "colab": {
          "base_uri": "https://localhost:8080/"
        },
        "id": "1Nl2fsNW84dG",
        "outputId": "d5db8ff5-cb7f-4f5b-bd94-15c02146ebbc"
      },
      "execution_count": null,
      "outputs": [
        {
          "output_type": "execute_result",
          "data": {
            "text/plain": [
              "2615.7272727272725"
            ]
          },
          "metadata": {},
          "execution_count": 13
        }
      ]
    },
    {
      "cell_type": "code",
      "source": [
        "# max in crime rate\n",
        "c = x.iloc[:,9]\n",
        "c.max()\n",
        "\n",
        "# mean of crime rate\n",
        "c.mean()"
      ],
      "metadata": {
        "colab": {
          "base_uri": "https://localhost:8080/"
        },
        "id": "T5ACDmNrFbOu",
        "outputId": "b487134d-309b-4b68-daa1-bd0996295ed4"
      },
      "execution_count": null,
      "outputs": [
        {
          "output_type": "execute_result",
          "data": {
            "text/plain": [
              "55.6430303030303"
            ]
          },
          "metadata": {},
          "execution_count": 22
        }
      ]
    },
    {
      "cell_type": "markdown",
      "source": [
        "#####first five land area of the metropolitan area data which are located in region 4"
      ],
      "metadata": {
        "id": "ocv6Nr0IObZD"
      }
    },
    {
      "cell_type": "code",
      "source": [
        "# The == operator is a comparison operator. If the values of two operands on either side are equal, then the condition becomes true.\n",
        "# The condition x[‘region’]==4 checks if the region of an entry is 4.\n",
        "# x[x[‘region’]==4] finds out all those columns that satisfy the condition specified.\n",
        "# x[x[‘region’]==4][‘land_area’] selects the land_area column from the data\n",
        "# Finally, x[x[‘region’]==4][‘land_area’].head() picks the top 5 rows as the question demands first five land area.\n",
        "\n",
        "x[x['region']==4]['land_area'].head()"
      ],
      "metadata": {
        "colab": {
          "base_uri": "https://localhost:8080/"
        },
        "id": "E40hmc93N_lX",
        "outputId": "f80dc795-6ff1-43ae-9a5d-99549f1efd4a"
      },
      "execution_count": null,
      "outputs": [
        {
          "output_type": "execute_result",
          "data": {
            "text/plain": [
              "4      2480\n",
              "13      782\n",
              "14     4226\n",
              "18    27293\n",
              "20     9155\n",
              "Name: land_area, dtype: int64"
            ]
          },
          "metadata": {},
          "execution_count": 24
        }
      ]
    },
    {
      "cell_type": "code",
      "source": [
        "plt.plot(x.land_area, x.crime_rate)\n",
        "plt.show()"
      ],
      "metadata": {
        "colab": {
          "base_uri": "https://localhost:8080/",
          "height": 265
        },
        "id": "xGoVYr1UPLxm",
        "outputId": "6f97c0e2-e41a-45c8-b50b-5b43d1c78adf"
      },
      "execution_count": null,
      "outputs": [
        {
          "output_type": "display_data",
          "data": {
            "text/plain": [
              "<Figure size 432x288 with 1 Axes>"
            ],
            "image/png": "[encoded data removed]"
          },
          "metadata": {
            "needs_background": "light"
          }
        }
      ]
    },
    {
      "cell_type": "code",
      "source": [
        "# There are 4 Metropolitan area which is located in region 1 and their crime rate is greater than or equal to 54.16\n",
        "x[(x['region']==1) & (round(x['crime_rate'],2)>=54.16)]"
      ],
      "metadata": {
        "colab": {
          "base_uri": "https://localhost:8080/",
          "height": 175
        },
        "id": "zKi6_bCSQRrT",
        "outputId": "ab786c01-3ea5-4684-8de3-b46476402da9"
      },
      "execution_count": null,
      "outputs": [
        {
          "output_type": "execute_result",
          "data": {
            "text/plain": [
              "    land_area  percent_city  percent_senior  physicians  hospital_beds  \\\n",
              "0        1384          78.1            12.3       25627          69678   \n",
              "10       1008          16.6            10.3        4006          16704   \n",
              "24       2966          26.9            10.3        2053           6604   \n",
              "55        192          60.5            10.8         617           1789   \n",
              "\n",
              "    graduates  work_force  income  region  crime_rate  \n",
              "0        50.1      4083.9   72100       1       75.55  \n",
              "10       55.9       935.5   15953       1       54.16  \n",
              "24       56.3       450.4    6966       1       56.55  \n",
              "55       44.1       212.6    3158       1       58.79  "
            ],
            "text/html": [
              "\n",
              "  <div id=\"df-a51b49cc-4376-4efb-9099-47f2656c8cf0\">\n",
              "    <div class=\"colab-df-container\">\n",
              "      <div>\n",
              "<style scoped>\n",
              "    .dataframe tbody tr th:only-of-type {\n",
              "        vertical-align: middle;\n",
              "    }\n",
              "\n",
              "    .dataframe tbody tr th {\n",
              "        vertical-align: top;\n",
              "    }\n",
              "\n",
              "    .dataframe thead th {\n",
              "        text-align: right;\n",
              "    }\n",
              "</style>\n",
              "<table border=\"1\" class=\"dataframe\">\n",
              "  <thead>\n",
              "    <tr style=\"text-align: right;\">\n",
              "      <th></th>\n",
              "      <th>land_area</th>\n",
              "      <th>percent_city</th>\n",
              "      <th>percent_senior</th>\n",
              "      <th>physicians</th>\n",
              "      <th>hospital_beds</th>\n",
              "      <th>graduates</th>\n",
              "      <th>work_force</th>\n",
              "      <th>income</th>\n",
              "      <th>region</th>\n",
              "      <th>crime_rate</th>\n",
              "    </tr>\n",
              "  </thead>\n",
              "  <tbody>\n",
              "    <tr>\n",
              "      <th>0</th>\n",
              "      <td>1384</td>\n",
              "      <td>78.1</td>\n",
              "      <td>12.3</td>\n",
              "      <td>25627</td>\n",
              "      <td>69678</td>\n",
              "      <td>50.1</td>\n",
              "      <td>4083.9</td>\n",
              "      <td>72100</td>\n",
              "      <td>1</td>\n",
              "      <td>75.55</td>\n",
              "    </tr>\n",
              "    <tr>\n",
              "      <th>10</th>\n",
              "      <td>1008</td>\n",
              "      <td>16.6</td>\n",
              "      <td>10.3</td>\n",
              "      <td>4006</td>\n",
              "      <td>16704</td>\n",
              "      <td>55.9</td>\n",
              "      <td>935.5</td>\n",
              "      <td>15953</td>\n",
              "      <td>1</td>\n",
              "      <td>54.16</td>\n",
              "    </tr>\n",
              "    <tr>\n",
              "      <th>24</th>\n",
              "      <td>2966</td>\n",
              "      <td>26.9</td>\n",
              "      <td>10.3</td>\n",
              "      <td>2053</td>\n",
              "      <td>6604</td>\n",
              "      <td>56.3</td>\n",
              "      <td>450.4</td>\n",
              "      <td>6966</td>\n",
              "      <td>1</td>\n",
              "      <td>56.55</td>\n",
              "    </tr>\n",
              "    <tr>\n",
              "      <th>55</th>\n",
              "      <td>192</td>\n",
              "      <td>60.5</td>\n",
              "      <td>10.8</td>\n",
              "      <td>617</td>\n",
              "      <td>1789</td>\n",
              "      <td>44.1</td>\n",
              "      <td>212.6</td>\n",
              "      <td>3158</td>\n",
              "      <td>1</td>\n",
              "      <td>58.79</td>\n",
              "    </tr>\n",
              "  </tbody>\n",
              "</table>\n",
              "</div>\n",
              "      <button class=\"colab-df-convert\" onclick=\"convertToInteractive('df-a51b49cc-4376-4efb-9099-47f2656c8cf0')\"\n",
              "              title=\"Convert this dataframe to an interactive table.\"\n",
              "              style=\"display:none;\">\n",
              "        \n",
              "  <svg xmlns=\"http://www.w3.org/2000/svg\" height=\"24px\"viewBox=\"0 0 24 24\"\n",
              "       width=\"24px\">\n",
              "    <path d=\"M0 0h24v24H0V0z\" fill=\"none\"/>\n",
              "    <path d=\"M18.56 5.44l.94 2.06.94-2.06 2.06-.94-2.06-.94-.94-2.06-.94 2.06-2.06.94zm-11 1L8.5 8.5l.94-2.06 2.06-.94-2.06-.94L8.5 2.5l-.94 2.06-2.06.94zm10 10l.94 2.06.94-2.06 2.06-.94-2.06-.94-.94-2.06-.94 2.06-2.06.94z\"/><path d=\"M17.41 7.96l-1.37-1.37c-.4-.4-.92-.59-1.43-.59-.52 0-1.04.2-1.43.59L10.3 9.45l-7.72 7.72c-.78.78-.78 2.05 0 2.83L4 21.41c.39.39.9.59 1.41.59.51 0 1.02-.2 1.41-.59l7.78-7.78 2.81-2.81c.8-.78.8-2.07 0-2.86zM5.41 20L4 18.59l7.72-7.72 1.47 1.35L5.41 20z\"/>\n",
              "  </svg>\n",
              "      </button>\n",
              "      \n",
              "  <style>\n",
              "    .colab-df-container {\n",
              "      display:flex;\n",
              "      flex-wrap:wrap;\n",
              "      gap: 12px;\n",
              "    }\n",
              "\n",
              "    .colab-df-convert {\n",
              "      background-color: #E8F0FE;\n",
              "      border: none;\n",
              "      border-radius: 50%;\n",
              "      cursor: pointer;\n",
              "      display: none;\n",
              "      fill: #1967D2;\n",
              "      height: 32px;\n",
              "      padding: 0 0 0 0;\n",
              "      width: 32px;\n",
              "    }\n",
              "\n",
              "    .colab-df-convert:hover {\n",
              "      background-color: #E2EBFA;\n",
              "      box-shadow: 0px 1px 2px rgba(60, 64, 67, 0.3), 0px 1px 3px 1px rgba(60, 64, 67, 0.15);\n",
              "      fill: #174EA6;\n",
              "    }\n",
              "\n",
              "    [theme=dark] .colab-df-convert {\n",
              "      background-color: #3B4455;\n",
              "      fill: #D2E3FC;\n",
              "    }\n",
              "\n",
              "    [theme=dark] .colab-df-convert:hover {\n",
              "      background-color: #434B5C;\n",
              "      box-shadow: 0px 1px 3px 1px rgba(0, 0, 0, 0.15);\n",
              "      filter: drop-shadow(0px 1px 2px rgba(0, 0, 0, 0.3));\n",
              "      fill: #FFFFFF;\n",
              "    }\n",
              "  </style>\n",
              "\n",
              "      <script>\n",
              "        const buttonEl =\n",
              "          document.querySelector('#df-a51b49cc-4376-4efb-9099-47f2656c8cf0 button.colab-df-convert');\n",
              "        buttonEl.style.display =\n",
              "          google.colab.kernel.accessAllowed ? 'block' : 'none';\n",
              "\n",
              "        async function convertToInteractive(key) {\n",
              "          const element = document.querySelector('#df-a51b49cc-4376-4efb-9099-47f2656c8cf0');\n",
              "          const dataTable =\n",
              "            await google.colab.kernel.invokeFunction('convertToInteractive',\n",
              "                                                     [key], {});\n",
              "          if (!dataTable) return;\n",
              "\n",
              "          const docLinkHtml = 'Like what you see? Visit the ' +\n",
              "            '<a target=\"_blank\" href=https://colab.research.google.com/notebooks/data_table.ipynb>data table notebook</a>'\n",
              "            + ' to learn more about interactive tables.';\n",
              "          element.innerHTML = '';\n",
              "          dataTable['output_type'] = 'display_data';\n",
              "          await google.colab.output.renderOutput(dataTable, element);\n",
              "          const docLink = document.createElement('div');\n",
              "          docLink.innerHTML = docLinkHtml;\n",
              "          element.appendChild(docLink);\n",
              "        }\n",
              "      </script>\n",
              "    </div>\n",
              "  </div>\n",
              "  "
            ]
          },
          "metadata": {},
          "execution_count": 27
        }
      ]
    },
    {
      "cell_type": "code",
      "source": [
        "# There are 40 Metropolitan area which are located in region 3 or have land area greater than or equal to 5000\n",
        "len(x[(x['region']==3) | (x['land_area']>=5000)])"
      ],
      "metadata": {
        "colab": {
          "base_uri": "https://localhost:8080/"
        },
        "id": "m5vIozZgQu7h",
        "outputId": "5e72c09e-2776-432c-ec57-094ce0a997ea"
      },
      "execution_count": null,
      "outputs": [
        {
          "output_type": "execute_result",
          "data": {
            "text/plain": [
              "41"
            ]
          },
          "metadata": {},
          "execution_count": 28
        }
      ]
    },
    {
      "cell_type": "code",
      "source": [
        "# There isn’t any Metropolitan area which is located in region 4 and crime rate is 55.64.\n",
        "x[(x['region']==4) & (round(x['crime_rate'],2)==85.62)]"
      ],
      "metadata": {
        "colab": {
          "base_uri": "https://localhost:8080/",
          "height": 81
        },
        "id": "UE4asFvoRCCq",
        "outputId": "6c22ef84-b859-490b-a80a-4f79a2b3ba04"
      },
      "execution_count": null,
      "outputs": [
        {
          "output_type": "execute_result",
          "data": {
            "text/plain": [
              "    land_area  percent_city  percent_senior  physicians  hospital_beds  \\\n",
              "20       9155          53.8            11.1        2280           6450   \n",
              "\n",
              "    graduates  work_force  income  region  crime_rate  \n",
              "20       60.1       575.2    7766       4       85.62  "
            ],
            "text/html": [
              "\n",
              "  <div id=\"df-90687730-13e8-42d9-a3b2-616ffd112057\">\n",
              "    <div class=\"colab-df-container\">\n",
              "      <div>\n",
              "<style scoped>\n",
              "    .dataframe tbody tr th:only-of-type {\n",
              "        vertical-align: middle;\n",
              "    }\n",
              "\n",
              "    .dataframe tbody tr th {\n",
              "        vertical-align: top;\n",
              "    }\n",
              "\n",
              "    .dataframe thead th {\n",
              "        text-align: right;\n",
              "    }\n",
              "</style>\n",
              "<table border=\"1\" class=\"dataframe\">\n",
              "  <thead>\n",
              "    <tr style=\"text-align: right;\">\n",
              "      <th></th>\n",
              "      <th>land_area</th>\n",
              "      <th>percent_city</th>\n",
              "      <th>percent_senior</th>\n",
              "      <th>physicians</th>\n",
              "      <th>hospital_beds</th>\n",
              "      <th>graduates</th>\n",
              "      <th>work_force</th>\n",
              "      <th>income</th>\n",
              "      <th>region</th>\n",
              "      <th>crime_rate</th>\n",
              "    </tr>\n",
              "  </thead>\n",
              "  <tbody>\n",
              "    <tr>\n",
              "      <th>20</th>\n",
              "      <td>9155</td>\n",
              "      <td>53.8</td>\n",
              "      <td>11.1</td>\n",
              "      <td>2280</td>\n",
              "      <td>6450</td>\n",
              "      <td>60.1</td>\n",
              "      <td>575.2</td>\n",
              "      <td>7766</td>\n",
              "      <td>4</td>\n",
              "      <td>85.62</td>\n",
              "    </tr>\n",
              "  </tbody>\n",
              "</table>\n",
              "</div>\n",
              "      <button class=\"colab-df-convert\" onclick=\"convertToInteractive('df-90687730-13e8-42d9-a3b2-616ffd112057')\"\n",
              "              title=\"Convert this dataframe to an interactive table.\"\n",
              "              style=\"display:none;\">\n",
              "        \n",
              "  <svg xmlns=\"http://www.w3.org/2000/svg\" height=\"24px\"viewBox=\"0 0 24 24\"\n",
              "       width=\"24px\">\n",
              "    <path d=\"M0 0h24v24H0V0z\" fill=\"none\"/>\n",
              "    <path d=\"M18.56 5.44l.94 2.06.94-2.06 2.06-.94-2.06-.94-.94-2.06-.94 2.06-2.06.94zm-11 1L8.5 8.5l.94-2.06 2.06-.94-2.06-.94L8.5 2.5l-.94 2.06-2.06.94zm10 10l.94 2.06.94-2.06 2.06-.94-2.06-.94-.94-2.06-.94 2.06-2.06.94z\"/><path d=\"M17.41 7.96l-1.37-1.37c-.4-.4-.92-.59-1.43-.59-.52 0-1.04.2-1.43.59L10.3 9.45l-7.72 7.72c-.78.78-.78 2.05 0 2.83L4 21.41c.39.39.9.59 1.41.59.51 0 1.02-.2 1.41-.59l7.78-7.78 2.81-2.81c.8-.78.8-2.07 0-2.86zM5.41 20L4 18.59l7.72-7.72 1.47 1.35L5.41 20z\"/>\n",
              "  </svg>\n",
              "      </button>\n",
              "      \n",
              "  <style>\n",
              "    .colab-df-container {\n",
              "      display:flex;\n",
              "      flex-wrap:wrap;\n",
              "      gap: 12px;\n",
              "    }\n",
              "\n",
              "    .colab-df-convert {\n",
              "      background-color: #E8F0FE;\n",
              "      border: none;\n",
              "      border-radius: 50%;\n",
              "      cursor: pointer;\n",
              "      display: none;\n",
              "      fill: #1967D2;\n",
              "      height: 32px;\n",
              "      padding: 0 0 0 0;\n",
              "      width: 32px;\n",
              "    }\n",
              "\n",
              "    .colab-df-convert:hover {\n",
              "      background-color: #E2EBFA;\n",
              "      box-shadow: 0px 1px 2px rgba(60, 64, 67, 0.3), 0px 1px 3px 1px rgba(60, 64, 67, 0.15);\n",
              "      fill: #174EA6;\n",
              "    }\n",
              "\n",
              "    [theme=dark] .colab-df-convert {\n",
              "      background-color: #3B4455;\n",
              "      fill: #D2E3FC;\n",
              "    }\n",
              "\n",
              "    [theme=dark] .colab-df-convert:hover {\n",
              "      background-color: #434B5C;\n",
              "      box-shadow: 0px 1px 3px 1px rgba(0, 0, 0, 0.15);\n",
              "      filter: drop-shadow(0px 1px 2px rgba(0, 0, 0, 0.3));\n",
              "      fill: #FFFFFF;\n",
              "    }\n",
              "  </style>\n",
              "\n",
              "      <script>\n",
              "        const buttonEl =\n",
              "          document.querySelector('#df-90687730-13e8-42d9-a3b2-616ffd112057 button.colab-df-convert');\n",
              "        buttonEl.style.display =\n",
              "          google.colab.kernel.accessAllowed ? 'block' : 'none';\n",
              "\n",
              "        async function convertToInteractive(key) {\n",
              "          const element = document.querySelector('#df-90687730-13e8-42d9-a3b2-616ffd112057');\n",
              "          const dataTable =\n",
              "            await google.colab.kernel.invokeFunction('convertToInteractive',\n",
              "                                                     [key], {});\n",
              "          if (!dataTable) return;\n",
              "\n",
              "          const docLinkHtml = 'Like what you see? Visit the ' +\n",
              "            '<a target=\"_blank\" href=https://colab.research.google.com/notebooks/data_table.ipynb>data table notebook</a>'\n",
              "            + ' to learn more about interactive tables.';\n",
              "          element.innerHTML = '';\n",
              "          dataTable['output_type'] = 'display_data';\n",
              "          await google.colab.output.renderOutput(dataTable, element);\n",
              "          const docLink = document.createElement('div');\n",
              "          docLink.innerHTML = docLinkHtml;\n",
              "          element.appendChild(docLink);\n",
              "        }\n",
              "      </script>\n",
              "    </div>\n",
              "  </div>\n",
              "  "
            ]
          },
          "metadata": {},
          "execution_count": 30
        }
      ]
    },
    {
      "cell_type": "code",
      "source": [
        "# correlation information between two variables.\n",
        "plt.scatter(x.hospital_beds, x.physicians)\n",
        "plt.show()"
      ],
      "metadata": {
        "colab": {
          "base_uri": "https://localhost:8080/",
          "height": 265
        },
        "id": "BWFD5opTRms9",
        "outputId": "b8799a5d-8901-47d6-ec1f-0a1efae34650"
      },
      "execution_count": null,
      "outputs": [
        {
          "output_type": "display_data",
          "data": {
            "text/plain": [
              "<Figure size 432x288 with 1 Axes>"
            ],
            "image/png": "[encoded data removed]"
          },
          "metadata": {
            "needs_background": "light"
          }
        }
      ]
    },
    {
      "cell_type": "markdown",
      "source": [
        "######create a bar plot of geographic regions against the frequency of each region.\n",
        "This means that we’ll have to count the occurrence of each region in our data.\n",
        "Let’s have a look at 2 methods of making the same bar plot:\n",
        "\n",
        "**Method 1 **- Using the Pandas plot function to draw a bar plot\n",
        "In this method, we use the value_counts() function to find out the frequency of each region in our data.\n",
        "The plot method with the kind=‘bar’ argument helps us plot bar charts. We are also specifying an argument color and providing a list of colours we want our bars to be plotted in.\n",
        "Also, it can be observed from the above options that the bars should not be sorted in the decreasing order of frequency which is usually the case while counting occurrence. We can use sort_index() to sort the bars according to their indices."
      ],
      "metadata": {
        "id": "wcbBQgAgUAQn"
      }
    },
    {
      "cell_type": "markdown",
      "source": [
        "######**Method 2** - Using seaborn to draw a colourful bar plot\n",
        "\n",
        "In this approach, we first used the groupby method to group values according to the regions.\n",
        "Then, we applied count to count the no. of entries in each group.\n",
        "On printing this df, you can observe that all the columns now contain the same data i.e frequencies of groups. To get any particular column, you can specify the column name inside the square brackets. Here, we’ve randomly used the first column land_area.\n",
        "Since the columns are grouped according to regions, our index will be region.\n",
        "Finally, Seaborn’s barplot method is used to plot a bar graph between the index and the land_area"
      ],
      "metadata": {
        "id": "TPw-0hqwVFeb"
      }
    },
    {
      "cell_type": "code",
      "source": [
        "ax = x['region'].value_counts().sort_index().plot(kind = 'bar', color = ['blue','orange','green','red'])\n",
        "ax.set_title(\"Geographic Region according to US census\")\n",
        "ax.set_xlabel(\"Geographic Region\")\n",
        "ax.set_ylabel(\"Frequency\")\n",
        "plt.show()"
      ],
      "metadata": {
        "colab": {
          "base_uri": "https://localhost:8080/",
          "height": 292
        },
        "id": "7wHyay0XT6o6",
        "outputId": "21fbdc18-f23f-4b06-871a-6f1cbf953d3f"
      },
      "execution_count": null,
      "outputs": [
        {
          "output_type": "display_data",
          "data": {
            "text/plain": [
              "<Figure size 432x288 with 1 Axes>"
            ],
            "image/png": "[encoded data removed]"
          },
          "metadata": {
            "needs_background": "light"
          }
        }
      ]
    },
    {
      "cell_type": "code",
      "source": [
        "import seaborn as sns\n",
        "f = x.groupby('region').count()\n",
        "f\n",
        "d = f[['land_area']]\n",
        "d\n",
        "ax = sns.barplot(d.index, d.land_area)\n",
        "ax.set_title(\"Geographic Region according to US census\")\n",
        "ax.set_xlabel(\"Geographic Region\")\n",
        "ax.set_ylabel(\"Frequency\")\n",
        "plt.show()"
      ],
      "metadata": {
        "colab": {
          "base_uri": "https://localhost:8080/",
          "height": 352
        },
        "id": "oFFDiU-cVWe8",
        "outputId": "c8886986-8687-45aa-a231-447ed7f78632"
      },
      "execution_count": null,
      "outputs": [
        {
          "output_type": "stream",
          "name": "stderr",
          "text": [
            "/usr/local/lib/python3.7/dist-packages/seaborn/_decorators.py:43: FutureWarning: Pass the following variables as keyword args: x, y. From version 0.12, the only valid positional argument will be `data`, and passing other arguments without an explicit keyword will result in an error or misinterpretation.\n",
            "  FutureWarning\n"
          ]
        },
        {
          "output_type": "display_data",
          "data": {
            "text/plain": [
              "<Figure size 432x288 with 1 Axes>"
            ],
            "image/png": "[encoded data removed]"
          },
          "metadata": {
            "needs_background": "light"
          }
        }
      ]
    },
    {
      "cell_type": "code",
      "source": [
        "#  histogram for income. We can do that with Matplotlib’s hist function.\n",
        "plt.hist(x.income)\n",
        "plt.title('Total income in 1976 in millions of dollars')\n",
        "plt.xlabel('Income')\n",
        "plt.ylabel('Frequency')\n",
        "plt.show()"
      ],
      "metadata": {
        "colab": {
          "base_uri": "https://localhost:8080/",
          "height": 295
        },
        "id": "LOk4gZMgWZMK",
        "outputId": "18522657-99b9-4633-b8fc-ee5ee81ff69c"
      },
      "execution_count": null,
      "outputs": [
        {
          "output_type": "display_data",
          "data": {
            "text/plain": [
              "<Figure size 432x288 with 1 Axes>"
            ],
            "image/png": "[encoded data removed]"
          },
          "metadata": {
            "needs_background": "light"
          }
        }
      ]
    },
    {
      "cell_type": "code",
      "source": [
        "i = x.iloc[:,7]\n",
        "i.min()"
      ],
      "metadata": {
        "colab": {
          "base_uri": "https://localhost:8080/"
        },
        "id": "lWY9eMtUGDqu",
        "outputId": "b0a2c441-af8a-42b8-8f61-b4f39735f77c"
      },
      "execution_count": null,
      "outputs": [
        {
          "output_type": "execute_result",
          "data": {
            "text/plain": [
              "769"
            ]
          },
          "metadata": {},
          "execution_count": 16
        }
      ]
    },
    {
      "cell_type": "code",
      "source": [
        "h = x.iloc[:,4]\n",
        "h.notnull()"
      ],
      "metadata": {
        "colab": {
          "base_uri": "https://localhost:8080/"
        },
        "id": "AqJsCcSPG1TL",
        "outputId": "19522628-54f5-4ae9-8918-8f3ce1a904c8"
      },
      "execution_count": null,
      "outputs": [
        {
          "output_type": "execute_result",
          "data": {
            "text/plain": [
              "0     True\n",
              "1     True\n",
              "2     True\n",
              "3     True\n",
              "4     True\n",
              "      ... \n",
              "94    True\n",
              "95    True\n",
              "96    True\n",
              "97    True\n",
              "98    True\n",
              "Name: hospital_beds, Length: 99, dtype: bool"
            ]
          },
          "metadata": {},
          "execution_count": 18
        }
      ]
    },
    {
      "cell_type": "code",
      "source": [
        "plt.plot(x.work_force, x.income,color=\"r\",label ='Work_force')\n",
        "plt.plot(x.physicians, x.income, label='Physicians')\n",
        "# labels will be used i legend\n",
        "# adding legent\n",
        "plt.legend()\n",
        "plt.show()"
      ],
      "metadata": {
        "colab": {
          "base_uri": "https://localhost:8080/",
          "height": 265
        },
        "id": "vJgD72Ob-L6r",
        "outputId": "62ad2113-5716-491e-a88f-55f3f3253146"
      },
      "execution_count": null,
      "outputs": [
        {
          "output_type": "display_data",
          "data": {
            "text/plain": [
              "<Figure size 432x288 with 1 Axes>"
            ],
            "image/png": "[encoded data removed]"
          },
          "metadata": {
            "needs_background": "light"
          }
        }
      ]
    },
    {
      "cell_type": "code",
      "source": [
        ""
      ],
      "metadata": {
        "id": "wdZoqqdwFabb"
      },
      "execution_count": null,
      "outputs": []
    },
    {
      "cell_type": "code",
      "source": [
        "plt.scatter(x.percent_senior, x.crime_rate)\n",
        "plt.title(\"Plot of Crime rate vs Percent Senior\")\n",
        "plt.xlabel(\"Percent senior\")\n",
        "plt.ylabel(\"Crime rate\")\n",
        "plt.show()"
      ],
      "metadata": {
        "colab": {
          "base_uri": "https://localhost:8080/",
          "height": 295
        },
        "id": "OBOyD5Bc_iJN",
        "outputId": "3174ec20-3c70-47f4-84c2-621089b5c7c9"
      },
      "execution_count": null,
      "outputs": [
        {
          "output_type": "display_data",
          "data": {
            "text/plain": [
              "<Figure size 432x288 with 1 Axes>"
            ],
            "image/png": "[encoded data removed]"
          },
          "metadata": {
            "needs_background": "light"
          }
        }
      ]
    }
  ]
}